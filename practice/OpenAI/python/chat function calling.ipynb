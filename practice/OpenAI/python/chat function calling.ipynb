{
 "cells": [
  {
   "cell_type": "code",
   "execution_count": 1,
   "metadata": {},
   "outputs": [],
   "source": [
    "import openai\n",
    "\n",
    "f = open('../api_key.txt')\n",
    "api_key = f.read()\n",
    "openai.api_key = api_key"
   ]
  },
  {
   "cell_type": "code",
   "execution_count": 2,
   "metadata": {},
   "outputs": [
    {
     "name": "stdout",
     "output_type": "stream",
     "text": [
      "{\n",
      "  \"role\": \"assistant\",\n",
      "  \"content\": null,\n",
      "  \"function_call\": {\n",
      "    \"name\": \"get_current_weather\",\n",
      "    \"arguments\": \"{\\n  \\\"location\\\": \\\"Boston, MA\\\"\\n}\"\n",
      "  }\n",
      "}\n"
     ]
    }
   ],
   "source": [
    "import json\n",
    "\n",
    "# 날씨를 물어보면 같은 답을 return하는 dummy function 생성.\n",
    "def get_current_weather(location, unit='fahrenheight'):\n",
    "    weather_info = {\n",
    "        'location': location,\n",
    "        'temperature': '72',\n",
    "        'unit': unit,\n",
    "        'forecast': ['sunny', 'windy']\n",
    "    }\n",
    "    # 실제 날씨를 불러오는 API를 사용해 그 값을 return하는 코드를 사용한다면 실행할 때마다 날씨를 알 수 있을 것\n",
    "    return json.dumps(weather_info)\n",
    "\n",
    "functions = [\n",
    "    {\n",
    "        'name': 'get_current_weather', # function의 이름\n",
    "        'description': 'Get the current weather in a given location', # 해당 function의 설명\n",
    "        'parameters': { \n",
    "            'type': 'object',\n",
    "            'properties': {\n",
    "                'location': {\n",
    "                    'type': 'string',\n",
    "                    'description': 'The city and state, e.g. San Francisco, CA' # 파라미터의 속성 설명\n",
    "                },\n",
    "                'unit': {\n",
    "                    'type': 'string',\n",
    "                    'enum': ['celsius', 'fahrenheit']\n",
    "                }\n",
    "            },\n",
    "            'required': ['location']\n",
    "        }\n",
    "    }\n",
    "]\n",
    "\n",
    "# 작성한 메시지, 설명을 담은 functions로 API 호출\n",
    "# fucntion_call을 auto로 설정해 메시지의 의도를 파악한 모델이 function을 사용해야할지 판단\n",
    "# 보스턴의 날씨를 알려달라는 메시지의 내용, 특정 지역의 날씨를 얻는 function의 내용을 모델이 파악\n",
    "# function을 사용해야 함을 이해하고 어떤 fucntion인지(name), 어떤 argument가 필요한지 제공\n",
    "# 그 정보를 response\n",
    "# 해당 정보를 이용해 다음 api request에 적용해 응답을 기대할 수 있다.\n",
    "messages = [{'role': 'user', 'content': \"What's the weather like in Boston?\"}]\n",
    "response = openai.ChatCompletion.create(\n",
    "    model='gpt-4-0613',\n",
    "    messages=messages,\n",
    "    functions=functions,\n",
    "    function_call='auto'\n",
    ")\n",
    "response_message = response['choices'][0]['message']\n",
    "print(response_message)"
   ]
  },
  {
   "cell_type": "code",
   "execution_count": 3,
   "metadata": {},
   "outputs": [
    {
     "name": "stdout",
     "output_type": "stream",
     "text": [
      "{\"location\": \"Boston, MA\", \"temperature\": \"72\", \"unit\": null, \"forecast\": [\"sunny\", \"windy\"]}\n"
     ]
    }
   ],
   "source": [
    "# 반드시 모든 request가 function을 필요로할 것은 아니므로 function_call 유무로 funtion 사용이 필요한지 파악\n",
    "# 만약 function_call이 없다면 일반적인 content가 response됐을 것이므로 else는 pass, 이후의 코드를 자유롭게 작성하면 될듯하다\n",
    "if response_message.get('function_call'):\n",
    "    available_fuctions = { # 사용자가 만든 function의 목록\n",
    "        'get_current_weather': get_current_weather\n",
    "    }\n",
    "\n",
    "    # api response로 받은 데이터 중 function name 얻기\n",
    "    function_name = response_message['function_call']['name']\n",
    "\n",
    "    # 사용자의 function 중 api가 필요로 하는 function 가져오기\n",
    "    function_to_call = available_fuctions[function_name]\n",
    "\n",
    "    # 이전 request의 messages에서 모델이 얻은 arguments를 가져오기\n",
    "    function_args = json.loads(response_message['function_call']['arguments'])\n",
    "\n",
    "    # print(function_args)\n",
    "\n",
    "    # 사용자의 function 실행, return값 얻기\n",
    "    function_response = function_to_call(\n",
    "        location=function_args.get('location'),\n",
    "        unit=function_args.get('unit')\n",
    "    )\n",
    "    \n",
    "    print(function_response)\n"
   ]
  },
  {
   "cell_type": "code",
   "execution_count": 4,
   "metadata": {},
   "outputs": [
    {
     "name": "stdout",
     "output_type": "stream",
     "text": [
      "[{'role': 'user', 'content': \"What's the weather like in Boston?\"}, <OpenAIObject at 0x246ca075450> JSON: {\n",
      "  \"role\": \"assistant\",\n",
      "  \"content\": null,\n",
      "  \"function_call\": {\n",
      "    \"name\": \"get_current_weather\",\n",
      "    \"arguments\": \"{\\n  \\\"location\\\": \\\"Boston, MA\\\"\\n}\"\n",
      "  }\n",
      "}, {'role': 'function', 'name': 'get_current_weather', 'content': '{\"location\": \"Boston, MA\", \"temperature\": \"72\", \"unit\": null, \"forecast\": [\"sunny\", \"windy\"]}'}]\n"
     ]
    }
   ],
   "source": [
    "# 이전 fucntion_call response를 메시지에 추가\n",
    "# !위 셀의 if문 블록 내에서 실행되는 것이라 생각해야 함\n",
    "messages.append(response_message)\n",
    "\n",
    "# 앞서 구한 function name, function의 return값을 각 필드의 속성으로 가지는 function role의 메시지 추가\n",
    "messages.append(\n",
    "    {\n",
    "        'role': 'function',\n",
    "        'name': function_name,\n",
    "        'content': function_response\n",
    "    }\n",
    ")\n",
    "\n",
    "# request할 message는 다음과 같이\n",
    "# 1.유저의 prompt, 2.이전 response로 얻은 function_call, 3.function의 이름 및 내용\n",
    "print(messages)"
   ]
  },
  {
   "cell_type": "code",
   "execution_count": 5,
   "metadata": {},
   "outputs": [
    {
     "name": "stdout",
     "output_type": "stream",
     "text": [
      "최종 response message: {\n",
      "  \"role\": \"assistant\",\n",
      "  \"content\": \"The weather in Boston is currently sunny and windy with a temperature of 72 degrees.\"\n",
      "}\n"
     ]
    }
   ],
   "source": [
    "second_response = openai.ChatCompletion.create(\n",
    "    model='gpt-4-0613',\n",
    "    messages=messages\n",
    ")\n",
    "print('최종 response message:', second_response['choices'][0]['message'])"
   ]
  },
  {
   "cell_type": "code",
   "execution_count": 8,
   "metadata": {},
   "outputs": [
    {
     "name": "stdout",
     "output_type": "stream",
     "text": [
      "일반적인 response: Sorry, as an artificial intelligence, I don't have real-time capabilities to provide current weather updates.\n",
      "함수 활용 response: The weather in Boston is currently sunny and windy with a temperature of 72 degrees.\n"
     ]
    }
   ],
   "source": [
    "basic_response = openai.ChatCompletion.create(\n",
    "    model='gpt-4-0613',\n",
    "    messages=[\n",
    "        {'role': 'user', 'content': \"What's the weather like in Boston?\"}\n",
    "    ]\n",
    ")\n",
    "print('일반적인 response:', basic_response['choices'][0]['message']['content'])\n",
    "print('함수 활용 response:', second_response['choices'][0]['message']['content'])"
   ]
  }
 ],
 "metadata": {
  "kernelspec": {
   "display_name": "whisper",
   "language": "python",
   "name": "python3"
  },
  "language_info": {
   "codemirror_mode": {
    "name": "ipython",
    "version": 3
   },
   "file_extension": ".py",
   "mimetype": "text/x-python",
   "name": "python",
   "nbconvert_exporter": "python",
   "pygments_lexer": "ipython3",
   "version": "3.8.17"
  },
  "orig_nbformat": 4
 },
 "nbformat": 4,
 "nbformat_minor": 2
}
