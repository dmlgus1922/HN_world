{
 "cells": [
  {
   "cell_type": "code",
   "execution_count": 1,
   "id": "fdde1376-c598-4c16-b8bc-6ae981da19fb",
   "metadata": {},
   "outputs": [],
   "source": [
    "import openai\n",
    "f = open('../api_key.txt')\n",
    "api_key = f.read()\n",
    "openai.api_key = api_key"
   ]
  },
  {
   "cell_type": "code",
   "execution_count": 3,
   "id": "d22748d1",
   "metadata": {},
   "outputs": [],
   "source": [
    "audio_file = open('../data/audio/audio.mp3', 'rb')"
   ]
  },
  {
   "cell_type": "code",
   "execution_count": 4,
   "id": "703e7957",
   "metadata": {},
   "outputs": [
    {
     "data": {
      "text/plain": [
       "'나래야, 문 열어줘. 문 열어줄래? 문 열어.'"
      ]
     },
     "execution_count": 4,
     "metadata": {},
     "output_type": "execute_result"
    }
   ],
   "source": [
    "transcribe = openai.Audio.transcribe('whisper-1', audio_file)\n",
    "transcribe['text']"
   ]
  }
 ],
 "metadata": {
  "kernelspec": {
   "display_name": "Python 3 (ipykernel)",
   "language": "python",
   "name": "python3"
  },
  "language_info": {
   "codemirror_mode": {
    "name": "ipython",
    "version": 3
   },
   "file_extension": ".py",
   "mimetype": "text/x-python",
   "name": "python",
   "nbconvert_exporter": "python",
   "pygments_lexer": "ipython3",
   "version": "3.8.17"
  }
 },
 "nbformat": 4,
 "nbformat_minor": 5
}
