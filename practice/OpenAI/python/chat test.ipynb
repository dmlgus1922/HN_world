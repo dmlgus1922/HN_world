{
 "cells": [
  {
   "cell_type": "code",
   "execution_count": 1,
   "metadata": {},
   "outputs": [],
   "source": [
    "import openai\n",
    "\n",
    "f = open('../api_key.txt')\n",
    "api_key = f.read()\n",
    "openai.api_key = api_key"
   ]
  },
  {
   "cell_type": "code",
   "execution_count": null,
   "metadata": {},
   "outputs": [],
   "source": [
    "model = 'gpt-3.5-turbo'\n",
    "messages=[\n",
    "    {'role':'system', 'content':'You are a helpful assistant'},\n",
    "    {'role':'user', 'content':'hello'}\n",
    "]\n",
    "\n",
    "completion = openai.ChatCompletion.create(\n",
    "    model=model,\n",
    "    messages=messages,\n",
    ")"
   ]
  },
  {
   "cell_type": "code",
   "execution_count": 2,
   "metadata": {},
   "outputs": [
    {
     "name": "stdout",
     "output_type": "stream",
     "text": [
      "{\n",
      "  \"role\": \"assistant\",\n",
      "  \"content\": null,\n",
      "  \"function_call\": {\n",
      "    \"name\": \"get_current_weather\",\n",
      "    \"arguments\": \"{\\n  \\\"location\\\": \\\"Boston\\\"\\n}\"\n",
      "  }\n",
      "}\n"
     ]
    }
   ],
   "source": [
    "import json\n",
    "\n",
    "# 날씨를 물어보면 같은 답을 return하는 dummy function 생성.\n",
    "def get_current_weather(location, unit='fahrenheight'):\n",
    "    weather_info = {\n",
    "        'location': location,\n",
    "        'temperature': '72',\n",
    "        'unit': unit,\n",
    "        'forecast': ['sunny', 'windy']\n",
    "    }\n",
    "    return json.dumps(weather_info)\n",
    "\n",
    "messages = [{'role': 'user', 'content': \"What's the weather like in Boston?\"}]\n",
    "functions = [\n",
    "    {\n",
    "        'name': 'get_current_weather', # function의 이름\n",
    "        'description': 'Get the current weather in a given location', # 해당 function의 설명\n",
    "        'parameters': { \n",
    "            'type': 'object',\n",
    "            'properties': {\n",
    "                'location': {\n",
    "                    'type': 'string',\n",
    "                    'description': 'The city and state, e.g. San Francisco, CA' # 파라미터의 속성 설명\n",
    "                },\n",
    "                'unit': {\n",
    "                    'type': 'string',\n",
    "                    'enum': ['celsius', 'fahrenheit']\n",
    "                }\n",
    "            },\n",
    "            'required': ['location']\n",
    "        }\n",
    "    }\n",
    "]\n",
    "\n",
    "response = openai.ChatCompletion.create(\n",
    "    model='gpt-3.5-turbo-0613',\n",
    "    messages=messages,\n",
    "    functions=functions,\n",
    "    function_call='auto'\n",
    ")\n",
    "response_message = response['choices'][0]['message']\n",
    "print(response_message)"
   ]
  },
  {
   "cell_type": "code",
   "execution_count": 3,
   "metadata": {},
   "outputs": [
    {
     "name": "stdout",
     "output_type": "stream",
     "text": [
      "{\"location\": \"Boston\", \"temperature\": \"72\", \"unit\": null, \"forecast\": [\"sunny\", \"windy\"]}\n"
     ]
    }
   ],
   "source": [
    "if response_message.get('function_call'):\n",
    "    available_fuctions = {\n",
    "        'get_current_weather': get_current_weather\n",
    "    }\n",
    "    function_name = response_message['function_call']['name']\n",
    "    function_to_call = available_fuctions[function_name]\n",
    "    function_args = json.loads(response_message['function_call']['arguments'])\n",
    "    function_response = function_to_call(\n",
    "        location=function_args.get('location'),\n",
    "        unit=function_args.get('unit')\n",
    "    )\n",
    "    \n",
    "    print(function_response)\n"
   ]
  },
  {
   "cell_type": "code",
   "execution_count": 4,
   "metadata": {},
   "outputs": [
    {
     "name": "stdout",
     "output_type": "stream",
     "text": [
      "[{'role': 'user', 'content': \"What's the weather like in Boston?\"}, <OpenAIObject at 0x2a9f60bfb80> JSON: {\n",
      "  \"role\": \"assistant\",\n",
      "  \"content\": null,\n",
      "  \"function_call\": {\n",
      "    \"name\": \"get_current_weather\",\n",
      "    \"arguments\": \"{\\n  \\\"location\\\": \\\"Boston\\\"\\n}\"\n",
      "  }\n",
      "}, {'role': 'function', 'name': 'get_current_weather', 'content': '{\"location\": \"Boston\", \"temperature\": \"72\", \"unit\": null, \"forecast\": [\"sunny\", \"windy\"]}'}]\n"
     ]
    }
   ],
   "source": [
    "messages.append(response_message)\n",
    "messages.append(\n",
    "    {\n",
    "        'role': 'function',\n",
    "        'name': function_name,\n",
    "        'content': function_response\n",
    "    }\n",
    ")\n",
    "\n",
    "print(messages)"
   ]
  },
  {
   "cell_type": "code",
   "execution_count": 7,
   "metadata": {},
   "outputs": [
    {
     "name": "stdout",
     "output_type": "stream",
     "text": [
      "{\n",
      "  \"id\": \"chatcmpl-7kq0hKdOIiNlBi4GZjh2GZhkUiflE\",\n",
      "  \"object\": \"chat.completion\",\n",
      "  \"created\": 1691397371,\n",
      "  \"model\": \"gpt-3.5-turbo-0613\",\n",
      "  \"choices\": [\n",
      "    {\n",
      "      \"index\": 0,\n",
      "      \"message\": {\n",
      "        \"role\": \"assistant\",\n",
      "        \"content\": \"The weather in Boston is currently sunny and windy with a temperature of 72 degrees.\"\n",
      "      },\n",
      "      \"finish_reason\": \"stop\"\n",
      "    }\n",
      "  ],\n",
      "  \"usage\": {\n",
      "    \"prompt_tokens\": 68,\n",
      "    \"completion_tokens\": 17,\n",
      "    \"total_tokens\": 85\n",
      "  }\n",
      "}\n"
     ]
    }
   ],
   "source": [
    "second_response = openai.ChatCompletion.create(\n",
    "    model='gpt-3.5-turbo-0613',\n",
    "    messages=messages\n",
    ")\n",
    "print(second_response)"
   ]
  },
  {
   "cell_type": "code",
   "execution_count": 8,
   "metadata": {},
   "outputs": [
    {
     "name": "stdout",
     "output_type": "stream",
     "text": [
      "The weather in Boston is currently sunny and windy with a temperature of 72 degrees.\n"
     ]
    }
   ],
   "source": [
    "print(second_response.choices[0]['message']['content'])"
   ]
  }
 ],
 "metadata": {
  "kernelspec": {
   "display_name": "whisper",
   "language": "python",
   "name": "python3"
  },
  "language_info": {
   "codemirror_mode": {
    "name": "ipython",
    "version": 3
   },
   "file_extension": ".py",
   "mimetype": "text/x-python",
   "name": "python",
   "nbconvert_exporter": "python",
   "pygments_lexer": "ipython3",
   "version": "3.8.17"
  },
  "orig_nbformat": 4
 },
 "nbformat": 4,
 "nbformat_minor": 2
}
